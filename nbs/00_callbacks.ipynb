{
 "cells": [
  {
   "cell_type": "code",
   "execution_count": 29,
   "metadata": {},
   "outputs": [],
   "source": [
    "# default_exp callbacks"
   ]
  },
  {
   "cell_type": "code",
   "execution_count": 30,
   "metadata": {},
   "outputs": [],
   "source": [
    "#hide\r\n",
    "from nbdev.showdoc import *\r\n",
    "from nbdev.export import notebook2script\r\n",
    "from fastcore.test import *"
   ]
  },
  {
   "cell_type": "code",
   "execution_count": 31,
   "metadata": {},
   "outputs": [],
   "source": [
    "#export\r\n",
    "from contextlib import ContextDecorator\r\n",
    "from rich.console import Console\r\n",
    "from fastcore.imports import *\r\n",
    "from fastcore.foundation import *\r\n",
    "from fastcore.basics import *\r\n",
    "from fastcore.meta import *"
   ]
  },
  {
   "cell_type": "code",
   "execution_count": 32,
   "metadata": {},
   "outputs": [],
   "source": [
    "#export\r\n",
    "_events = L.split('after_enter before_exit')"
   ]
  },
  {
   "cell_type": "code",
   "execution_count": 33,
   "metadata": {},
   "outputs": [],
   "source": [
    "#export\r\n",
    "mk_class('event', **_events.map_dict(),\r\n",
    "         doc=\"All possible events as attributes to get tab-completion and typo-proofing\")"
   ]
  },
  {
   "cell_type": "code",
   "execution_count": 34,
   "metadata": {},
   "outputs": [],
   "source": [
    "#export\r\n",
    "@funcs_kwargs(as_method=True)\r\n",
    "class Callback(Stateful,GetAttr):\r\n",
    "    \"Basic class handling tweaks of the runner\"\r\n",
    "    _methods = _events\r\n",
    "\r\n",
    "    def __init__(self, **kwargs): assert not kwargs, f'Passed unknown events: {kwargs}'\r\n",
    "    def __repr__(self): return type(self).__name__\r\n",
    "\r\n",
    "    def __call__(self, event_name):\r\n",
    "        \"Call `self.{event_name}` if it's defined\"\r\n",
    "        res = getattr(self, event_name, noop)()\r\n",
    "        return res\r\n",
    "\r\n",
    "    def __setattr__(self, name, value):\r\n",
    "        super().__setattr__(name, value)\r\n",
    "\r\n",
    "    @property\r\n",
    "    def name(self):\r\n",
    "        \"Name of the `Callback`, camel-cased and with '*Callback*' removed\"\r\n",
    "        return class2attr(self, 'Callback')"
   ]
  },
  {
   "cell_type": "markdown",
   "metadata": {},
   "source": [
    "The `Callback` can be used to define callbacks to intorduce new tweaks into the test runner. Currently there are two life cycle events of the test runner.\r\n",
    "\r\n",
    "* `after_enter` - called after entering into Describe or It.\r\n",
    "* `before_exit` - called before exiting the Describe or It.\r\n",
    "\r\n",
    "> The `Callback` class is hugely inspired by the beautiful FastAI library. Infact the code for the callback is the direct copy of the Callback class in the FastAI class. Some of the tests are also from the FastAI library."
   ]
  },
  {
   "cell_type": "code",
   "execution_count": 35,
   "metadata": {},
   "outputs": [
    {
     "data": {
      "text/markdown": "<h4 id=\"Callback.__call__\" class=\"doc_header\"><code>Callback.__call__</code><a href=\"__main__.py#L10\" class=\"source_link\" style=\"float:right\">[source]</a></h4>\n\n> <code>Callback.__call__</code>(**`event_name`**)\n\nCall `self.{event_name}` if it's defined",
      "text/plain": "<IPython.core.display.Markdown object>"
     },
     "metadata": {},
     "output_type": "display_data"
    }
   ],
   "source": [
    "show_doc(Callback.__call__)"
   ]
  },
  {
   "cell_type": "code",
   "execution_count": 36,
   "metadata": {},
   "outputs": [
    {
     "data": {
      "text/markdown": "<h4 id=\"Callback.name\" class=\"doc_header\"><code>Callback.name</code><a href=\"\" class=\"source_link\" style=\"float:right\">[source]</a></h4>\n\nName of the [`Callback`](/mochaccino/suite.html#Callback), camel-cased and with '*Callback*' removed",
      "text/plain": "<IPython.core.display.Markdown object>"
     },
     "metadata": {},
     "output_type": "display_data"
    }
   ],
   "source": [
    "show_doc(Callback.name)"
   ]
  },
  {
   "cell_type": "markdown",
   "metadata": {},
   "source": [
    "A callback can be created by subclassing the `Callback` class like this👇"
   ]
  },
  {
   "cell_type": "code",
   "execution_count": 37,
   "metadata": {},
   "outputs": [],
   "source": [
    "class _T(Callback):\r\n",
    "    def call_me(self): return \"maybe\"\r\n",
    "test_eq(_T()(\"call_me\"), \"maybe\")"
   ]
  },
  {
   "cell_type": "markdown",
   "metadata": {},
   "source": [
    "You can also create a function and then assign it to an event in the Callback class. Doing this would give you a callback for that event. \r\n",
    "\r\n",
    "👀 at the test below for an example about how to assign a function as a callback event."
   ]
  },
  {
   "cell_type": "code",
   "execution_count": 38,
   "metadata": {},
   "outputs": [],
   "source": [
    "def cb(self): return \"maybe\"\r\n",
    "_t = Callback(after_enter=cb)\r\n",
    "test_eq(_t(event.after_enter), \"maybe\")"
   ]
  },
  {
   "cell_type": "code",
   "execution_count": 39,
   "metadata": {},
   "outputs": [],
   "source": [
    "#export\r\n",
    "console = Console()"
   ]
  },
  {
   "cell_type": "code",
   "execution_count": 40,
   "metadata": {},
   "outputs": [],
   "source": [
    "#export\r\n",
    "class CallbackHandler:\r\n",
    "    \"Basic handler to assign the callback events to their respective flows\"\r\n",
    "    def __init__(self,cbs=None): self.cbs = cbs if cbs else []\r\n",
    "\r\n",
    "    def after_enter(self, o):\r\n",
    "        res = True\r\n",
    "        for cb in self.cbs: res = res and cb.after_enter(o)\r\n",
    "        return res\r\n",
    "\r\n",
    "    def before_exit(self, o):\r\n",
    "        res = True\r\n",
    "        for cb in self.cbs: res = res and cb.before_exit(o)\r\n",
    "        return res"
   ]
  },
  {
   "cell_type": "markdown",
   "metadata": {},
   "source": [
    "The `CallbackHandler` helps in collecting the callbacks that are passed and then assigns each callback to it'sown type."
   ]
  },
  {
   "cell_type": "code",
   "execution_count": 41,
   "metadata": {},
   "outputs": [],
   "source": [
    "#export\r\n",
    "class ReporterCallback(Callback):\r\n",
    "    def after_enter(self): console.print(self.desc, style=\"green\")\r\n",
    "    def before_exit(self): console.print(self.desc, style=\"green\")"
   ]
  },
  {
   "cell_type": "code",
   "execution_count": 42,
   "metadata": {},
   "outputs": [
    {
     "name": "stdout",
     "output_type": "stream",
     "text": [
      "Converted 00_callbacks.ipynb.\n",
      "Converted 01_suite.ipynb.\n"
     ]
    }
   ],
   "source": [
    "notebook2script()"
   ]
  },
  {
   "cell_type": "code",
   "execution_count": null,
   "metadata": {},
   "outputs": [],
   "source": []
  }
 ],
 "metadata": {
  "kernelspec": {
   "display_name": "Python 3.7.6 64-bit ('base': conda)",
   "name": "python376jvsc74a57bd0e079cb073afbc67e75dc147949a8fc9be8bcd84e66144dca9912de085621a9e8"
  },
  "language_info": {
   "codemirror_mode": {
    "name": "ipython",
    "version": 3
   },
   "file_extension": ".py",
   "mimetype": "text/x-python",
   "name": "python",
   "nbconvert_exporter": "python",
   "pygments_lexer": "ipython3",
   "version": "3.7.6"
  },
  "orig_nbformat": 2
 },
 "nbformat": 4,
 "nbformat_minor": 2
}