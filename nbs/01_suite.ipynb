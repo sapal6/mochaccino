{
 "cells": [
  {
   "cell_type": "code",
   "execution_count": 61,
   "metadata": {},
   "outputs": [],
   "source": [
    "# default_exp suite"
   ]
  },
  {
   "cell_type": "markdown",
   "metadata": {},
   "source": [
    "# Frappe suite\n",
    "\n",
    "> Frappe is the package which has definItions for the test suite `deescribe` and tets function `It`. "
   ]
  },
  {
   "cell_type": "code",
   "execution_count": 62,
   "metadata": {},
   "outputs": [],
   "source": [
    "#hide\n",
    "from nbdev.showdoc import *\n",
    "from nbdev.export import notebook2script"
   ]
  },
  {
   "cell_type": "code",
   "execution_count": 63,
   "metadata": {},
   "outputs": [],
   "source": [
    "#export\r\n",
    "from contextlib import ContextDecorator\r\n",
    "from rich.console import Console\r\n",
    "from fastcore.imports import *\r\n",
    "from fastcore.foundation import *\r\n",
    "from fastcore.basics import *\r\n",
    "from fastcore.meta import *\r\n",
    "from fastcore.test import *\r\n",
    "from mochaccino.callbacks import *"
   ]
  },
  {
   "cell_type": "code",
   "execution_count": 64,
   "metadata": {},
   "outputs": [],
   "source": [
    "def sum():\n",
    "    return 1+1"
   ]
  },
  {
   "cell_type": "code",
   "execution_count": 65,
   "metadata": {},
   "outputs": [],
   "source": [
    "#export\r\n",
    "class Describe(ContextDecorator):\r\n",
    "    \"contextmanager to describe a test suite\"\r\n",
    "    def __init__(self, desc: str, cbs=[ReporterCallback]): \r\n",
    "        self.desc = desc\r\n",
    "        self.cb_handler = CallbackHandler(cbs)\r\n",
    "\r\n",
    "    def __enter__(self):\r\n",
    "        \"start the execution of the suite and do setup\"\r\n",
    "        #print(self.desc)\r\n",
    "        if self.cb_handler.after_enter(self): cb_handler.after_enter(self)\r\n",
    "        return self\r\n",
    "    #TODO: create callbacks to check type, value,traceback and format report and termnial display\r\n",
    "    def __exit__(self, type, value, traceback):\r\n",
    "        \"cleanup and exit the suite\"\r\n",
    "        #print(f'{self.desc} completed')\r\n",
    "        #print(type, value, traceback, sep=\"\\n\")\r\n",
    "        return True"
   ]
  },
  {
   "cell_type": "code",
   "execution_count": 66,
   "metadata": {},
   "outputs": [
    {
     "data": {
      "text/markdown": "<h4 id=\"Describe.__enter__\" class=\"doc_header\"><code>Describe.__enter__</code><a href=\"__main__.py#L8\" class=\"source_link\" style=\"float:right\">[source]</a></h4>\n\n> <code>Describe.__enter__</code>()\n\nstart the execution of the suite and do setup",
      "text/plain": "<IPython.core.display.Markdown object>"
     },
     "metadata": {},
     "output_type": "display_data"
    }
   ],
   "source": [
    "show_doc(Describe.__enter__)"
   ]
  },
  {
   "cell_type": "code",
   "execution_count": 67,
   "metadata": {},
   "outputs": [
    {
     "data": {
      "text/markdown": "<h4 id=\"Describe.__exit__\" class=\"doc_header\"><code>Describe.__exit__</code><a href=\"__main__.py#L14\" class=\"source_link\" style=\"float:right\">[source]</a></h4>\n\n> <code>Describe.__exit__</code>(**`type`**, **`value`**, **`traceback`**)\n\ncleanup and exit the suite",
      "text/plain": "<IPython.core.display.Markdown object>"
     },
     "metadata": {},
     "output_type": "display_data"
    }
   ],
   "source": [
    "show_doc(Describe.__exit__)"
   ]
  },
  {
   "cell_type": "code",
   "execution_count": 68,
   "metadata": {},
   "outputs": [
    {
     "data": {
      "text/html": "<pre style=\"white-space:pre;overflow-x:auto;line-height:normal;font-family:Menlo,'DejaVu Sans Mono',consolas,'Courier New',monospace\"><span style=\"color: #008000; text-decoration-color: #008000\">fake failing test</span>\n</pre>\n",
      "text/plain": "<rich.jupyter.JupyterRenderable at 0x28ad51da808>"
     },
     "metadata": {},
     "output_type": "display_data"
    }
   ],
   "source": [
    "@Describe(\"fake failing test\")\r\n",
    "def test():\r\n",
    "    return test_eq(sum(),1)\r\n",
    "    \r\n",
    "test()"
   ]
  },
  {
   "cell_type": "markdown",
   "metadata": {},
   "source": [
    "This won't work👇"
   ]
  },
  {
   "cell_type": "code",
   "execution_count": 69,
   "metadata": {},
   "outputs": [
    {
     "data": {
      "text/html": "<pre style=\"white-space:pre;overflow-x:auto;line-height:normal;font-family:Menlo,'DejaVu Sans Mono',consolas,'Courier New',monospace\"><span style=\"color: #008000; text-decoration-color: #008000\">fake negative test</span>\n</pre>\n",
      "text/plain": "<rich.jupyter.JupyterRenderable at 0x28ad4928e08>"
     },
     "metadata": {},
     "output_type": "display_data"
    }
   ],
   "source": [
    "with Describe(\"fake negative test\") as d:\n",
    "    d.test_ne(sum(), 1)"
   ]
  },
  {
   "cell_type": "markdown",
   "metadata": {},
   "source": [
    "This works👇"
   ]
  },
  {
   "cell_type": "code",
   "execution_count": 70,
   "metadata": {},
   "outputs": [
    {
     "data": {
      "text/html": "<pre style=\"white-space:pre;overflow-x:auto;line-height:normal;font-family:Menlo,'DejaVu Sans Mono',consolas,'Courier New',monospace\"><span style=\"color: #008000; text-decoration-color: #008000\">positive fake test suite</span>\n</pre>\n",
      "text/plain": "<rich.jupyter.JupyterRenderable at 0x28ad53257c8>"
     },
     "metadata": {},
     "output_type": "display_data"
    }
   ],
   "source": [
    "with Describe(\"positive fake test suite\"):\n",
    "    test_eq(sum(),2)"
   ]
  },
  {
   "cell_type": "code",
   "execution_count": 71,
   "metadata": {},
   "outputs": [
    {
     "data": {
      "text/html": "<pre style=\"white-space:pre;overflow-x:auto;line-height:normal;font-family:Menlo,'DejaVu Sans Mono',consolas,'Courier New',monospace\"><span style=\"color: #008000; text-decoration-color: #008000\">first describe</span>\n</pre>\n",
      "text/plain": "<rich.jupyter.JupyterRenderable at 0x28ad533c1c8>"
     },
     "metadata": {},
     "output_type": "display_data"
    },
    {
     "name": "stdout",
     "output_type": "stream",
     "text": [
      "I am inside first describe\n"
     ]
    },
    {
     "data": {
      "text/html": "<pre style=\"white-space:pre;overflow-x:auto;line-height:normal;font-family:Menlo,'DejaVu Sans Mono',consolas,'Courier New',monospace\"><span style=\"color: #008000; text-decoration-color: #008000\">second describe</span>\n</pre>\n",
      "text/plain": "<rich.jupyter.JupyterRenderable at 0x28ad533cf48>"
     },
     "metadata": {},
     "output_type": "display_data"
    }
   ],
   "source": [
    "with Describe(\"first describe\"):\n",
    "    print('I am inside first describe')\n",
    "    with Describe(\"second describe\") as d:\n",
    "        test_eq(sum(),2)"
   ]
  },
  {
   "cell_type": "code",
   "execution_count": 72,
   "metadata": {},
   "outputs": [
    {
     "data": {
      "text/html": "<pre style=\"white-space:pre;overflow-x:auto;line-height:normal;font-family:Menlo,'DejaVu Sans Mono',consolas,'Courier New',monospace\"><span style=\"color: #008000; text-decoration-color: #008000\">fake positive test</span>\n</pre>\n",
      "text/plain": "<rich.jupyter.JupyterRenderable at 0x28ad5325d48>"
     },
     "metadata": {},
     "output_type": "display_data"
    }
   ],
   "source": [
    "@Describe(\"fake positive test\")\n",
    "def postest():\n",
    "    test_eq(sum(), 2)\n",
    "\n",
    "postest()"
   ]
  },
  {
   "cell_type": "code",
   "execution_count": 73,
   "metadata": {},
   "outputs": [
    {
     "data": {
      "text/html": "<pre style=\"white-space:pre;overflow-x:auto;line-height:normal;font-family:Menlo,'DejaVu Sans Mono',consolas,'Courier New',monospace\"><span style=\"color: #008000; text-decoration-color: #008000\">first describe</span>\n</pre>\n",
      "text/plain": "<rich.jupyter.JupyterRenderable at 0x28acfea0f08>"
     },
     "metadata": {},
     "output_type": "display_data"
    },
    {
     "data": {
      "text/html": "<pre style=\"white-space:pre;overflow-x:auto;line-height:normal;font-family:Menlo,'DejaVu Sans Mono',consolas,'Courier New',monospace\"><span style=\"color: #008000; text-decoration-color: #008000\">second describe</span>\n</pre>\n",
      "text/plain": "<rich.jupyter.JupyterRenderable at 0x28ad5325488>"
     },
     "metadata": {},
     "output_type": "display_data"
    }
   ],
   "source": [
    "@Describe(\"first describe\")\n",
    "@Describe(\"second describe\")\n",
    "def postest():\n",
    "    test_eq(sum(), 2)\n",
    "\n",
    "postest()"
   ]
  },
  {
   "cell_type": "code",
   "execution_count": 74,
   "metadata": {},
   "outputs": [],
   "source": [
    "#export\r\n",
    "class It(ContextDecorator):\r\n",
    "    \"contextmanager to describe a test function\"\r\n",
    "    def __init__(self, desc: str, cbs=[ReporterCallback]): \r\n",
    "        self.desc = desc\r\n",
    "        self.cb_handler = CallbackHandler(cbs)\r\n",
    "\r\n",
    "    def __enter__(self):\r\n",
    "        \"start the execution of the test\"\r\n",
    "        if self.cb_handler.after_enter(self): cb_handler.after_enter(self)\r\n",
    "        return self\r\n",
    "    #TODO: create callbacks to check type, value,traceback and format report and termnial display\r\n",
    "    def __exit__(self, type, value, traceback):\r\n",
    "        \"cleanup and exit the test\"\r\n",
    "        #print(f'{self.desc} completed')\r\n",
    "        #print(type, value, traceback, sep=\"\\n\")\r\n",
    "        return True"
   ]
  },
  {
   "cell_type": "code",
   "execution_count": 75,
   "metadata": {},
   "outputs": [
    {
     "data": {
      "text/html": "<pre style=\"white-space:pre;overflow-x:auto;line-height:normal;font-family:Menlo,'DejaVu Sans Mono',consolas,'Courier New',monospace\"><span style=\"color: #008000; text-decoration-color: #008000\">fake test suite</span>\n</pre>\n",
      "text/plain": "<rich.jupyter.JupyterRenderable at 0x28ad42d6288>"
     },
     "metadata": {},
     "output_type": "display_data"
    },
    {
     "data": {
      "text/html": "<pre style=\"white-space:pre;overflow-x:auto;line-height:normal;font-family:Menlo,'DejaVu Sans Mono',consolas,'Courier New',monospace\"><span style=\"color: #008000; text-decoration-color: #008000\">should have some fake result</span>\n</pre>\n",
      "text/plain": "<rich.jupyter.JupyterRenderable at 0x28ad4928a08>"
     },
     "metadata": {},
     "output_type": "display_data"
    }
   ],
   "source": [
    "with Describe(\"fake test suite\"):\n",
    "    with It(\"should have some fake result\"):\n",
    "        test_eq(sum(),2)"
   ]
  },
  {
   "cell_type": "code",
   "execution_count": 76,
   "metadata": {},
   "outputs": [
    {
     "data": {
      "text/html": "<pre style=\"white-space:pre;overflow-x:auto;line-height:normal;font-family:Menlo,'DejaVu Sans Mono',consolas,'Courier New',monospace\"><span style=\"color: #008000; text-decoration-color: #008000\">Fake posItive test suite</span>\n</pre>\n",
      "text/plain": "<rich.jupyter.JupyterRenderable at 0x28ad42d65c8>"
     },
     "metadata": {},
     "output_type": "display_data"
    },
    {
     "data": {
      "text/html": "<pre style=\"white-space:pre;overflow-x:auto;line-height:normal;font-family:Menlo,'DejaVu Sans Mono',consolas,'Courier New',monospace\"><span style=\"color: #008000; text-decoration-color: #008000\">should have positive test result</span>\n</pre>\n",
      "text/plain": "<rich.jupyter.JupyterRenderable at 0x28ad4419248>"
     },
     "metadata": {},
     "output_type": "display_data"
    }
   ],
   "source": [
    "with Describe(\"Fake posItive test suite\"):\n",
    "    with It(\"should have positive test result\"):\n",
    "        test_eq(sum(), 2)"
   ]
  },
  {
   "cell_type": "code",
   "execution_count": 77,
   "metadata": {},
   "outputs": [
    {
     "data": {
      "text/html": "<pre style=\"white-space:pre;overflow-x:auto;line-height:normal;font-family:Menlo,'DejaVu Sans Mono',consolas,'Courier New',monospace\"><span style=\"color: #008000; text-decoration-color: #008000\">Fake posItive test suite</span>\n</pre>\n",
      "text/plain": "<rich.jupyter.JupyterRenderable at 0x28ad4419cc8>"
     },
     "metadata": {},
     "output_type": "display_data"
    },
    {
     "data": {
      "text/html": "<pre style=\"white-space:pre;overflow-x:auto;line-height:normal;font-family:Menlo,'DejaVu Sans Mono',consolas,'Courier New',monospace\"><span style=\"color: #008000; text-decoration-color: #008000\">should have posItive test result</span>\n</pre>\n",
      "text/plain": "<rich.jupyter.JupyterRenderable at 0x28ad50f4288>"
     },
     "metadata": {},
     "output_type": "display_data"
    },
    {
     "data": {
      "text/html": "<pre style=\"white-space:pre;overflow-x:auto;line-height:normal;font-family:Menlo,'DejaVu Sans Mono',consolas,'Courier New',monospace\"><span style=\"color: #008000; text-decoration-color: #008000\">should have negative test result</span>\n</pre>\n",
      "text/plain": "<rich.jupyter.JupyterRenderable at 0x28ad5539a88>"
     },
     "metadata": {},
     "output_type": "display_data"
    }
   ],
   "source": [
    "with Describe(\"Fake posItive test suite\"):\n",
    "    with It(\"should have posItive test result\"):\n",
    "        test_eq(sum(), 2)\n",
    "\n",
    "    with It(\"should have negative test result\"):\n",
    "        test_ne(sum(),1)"
   ]
  },
  {
   "cell_type": "code",
   "execution_count": 78,
   "metadata": {},
   "outputs": [
    {
     "data": {
      "text/html": "<pre style=\"white-space:pre;overflow-x:auto;line-height:normal;font-family:Menlo,'DejaVu Sans Mono',consolas,'Courier New',monospace\"><span style=\"color: #008000; text-decoration-color: #008000\">Fake positive test suite</span>\n</pre>\n",
      "text/plain": "<rich.jupyter.JupyterRenderable at 0x28ad532ea48>"
     },
     "metadata": {},
     "output_type": "display_data"
    },
    {
     "data": {
      "text/html": "<pre style=\"white-space:pre;overflow-x:auto;line-height:normal;font-family:Menlo,'DejaVu Sans Mono',consolas,'Courier New',monospace\"><span style=\"color: #008000; text-decoration-color: #008000\">should have positive test result</span>\n</pre>\n",
      "text/plain": "<rich.jupyter.JupyterRenderable at 0x28ad452c808>"
     },
     "metadata": {},
     "output_type": "display_data"
    }
   ],
   "source": [
    "@Describe(\"Fake positive test suite\")\n",
    "@It(\"should have positive test result\")\n",
    "def postest():\n",
    "    return test_eq(sum(), 2)\n",
    "\n",
    "postest()"
   ]
  },
  {
   "cell_type": "code",
   "execution_count": 79,
   "metadata": {},
   "outputs": [
    {
     "data": {
      "text/html": "<pre style=\"white-space:pre;overflow-x:auto;line-height:normal;font-family:Menlo,'DejaVu Sans Mono',consolas,'Courier New',monospace\"><span style=\"color: #008000; text-decoration-color: #008000\">Fake negative test suite</span>\n</pre>\n",
      "text/plain": "<rich.jupyter.JupyterRenderable at 0x28ad5325388>"
     },
     "metadata": {},
     "output_type": "display_data"
    },
    {
     "data": {
      "text/html": "<pre style=\"white-space:pre;overflow-x:auto;line-height:normal;font-family:Menlo,'DejaVu Sans Mono',consolas,'Courier New',monospace\"><span style=\"color: #008000; text-decoration-color: #008000\">should have negative test result</span>\n</pre>\n",
      "text/plain": "<rich.jupyter.JupyterRenderable at 0x28ad50f4288>"
     },
     "metadata": {},
     "output_type": "display_data"
    }
   ],
   "source": [
    "@Describe(\"Fake negative test suite\")\n",
    "@It(\"should have negative test result\")\n",
    "def negtest():\n",
    "    return test_ne(sum(), 1)\n",
    "\n",
    "negtest()"
   ]
  },
  {
   "cell_type": "code",
   "execution_count": 80,
   "metadata": {},
   "outputs": [
    {
     "name": "stdout",
     "output_type": "stream",
     "text": [
      "Converted 00_callbacks.ipynb.\n",
      "Converted 01_suite.ipynb.\n"
     ]
    }
   ],
   "source": [
    "notebook2script()"
   ]
  },
  {
   "cell_type": "code",
   "execution_count": null,
   "metadata": {},
   "outputs": [],
   "source": []
  }
 ],
 "metadata": {
  "interpreter": {
   "hash": "ecf5722fdaf1897a315d257d89d94520bfcaa453217d5becf09b39e73618b0de"
  },
  "kernelspec": {
   "display_name": "Python 3.7.6 64-bit ('base': conda)",
   "name": "python376jvsc74a57bd0e079cb073afbc67e75dc147949a8fc9be8bcd84e66144dca9912de085621a9e8"
  },
  "language_info": {
   "name": "python",
   "version": ""
  }
 },
 "nbformat": 4,
 "nbformat_minor": 2
}