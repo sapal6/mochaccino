{
 "cells": [
  {
   "cell_type": "code",
   "execution_count": 1,
   "metadata": {},
   "outputs": [],
   "source": [
    "# default_exp frappe.suite"
   ]
  },
  {
   "cell_type": "markdown",
   "metadata": {},
   "source": [
    "# Frappe suite\r\n",
    "\r\n",
    "> Frappe is the package which has definItions for the test suite `deescribe` and tets function `It`. "
   ]
  },
  {
   "cell_type": "code",
   "execution_count": 2,
   "metadata": {},
   "outputs": [],
   "source": [
    "#hide\r\n",
    "from nbdev.showdoc import *\r\n",
    "from nbdev.export import notebook2script\r\n",
    "from fastcore.imports import *\r\n",
    "from fastcore.foundation import *\r\n",
    "from fastcore.basics import *\r\n",
    "from fastcore.meta import *\r\n",
    "from fastcore.test import *"
   ]
  },
  {
   "cell_type": "code",
   "execution_count": 3,
   "metadata": {},
   "outputs": [],
   "source": [
    "#export\r\n",
    "from contextlib import ContextDecorator"
   ]
  },
  {
   "cell_type": "code",
   "execution_count": 4,
   "metadata": {},
   "outputs": [],
   "source": [
    "_events = L.split('after_enter before_exit')"
   ]
  },
  {
   "cell_type": "code",
   "execution_count": 5,
   "metadata": {},
   "outputs": [],
   "source": [
    "mk_class('event', **_events.map_dict(),\r\n",
    "         doc=\"All possible events as attributes to get tab-completion and typo-proofing\")"
   ]
  },
  {
   "cell_type": "code",
   "execution_count": 6,
   "metadata": {},
   "outputs": [],
   "source": [
    "#export\r\n",
    "@funcs_kwargs(as_method=True)\r\n",
    "class Callback(Stateful,GetAttr):\r\n",
    "    \"Basic class handling tweaks of the runner\"\r\n",
    "    _methods = _events\r\n",
    "\r\n",
    "    def __init__(self, **kwargs): assert not kwargs, f'Passed unknown events: {kwargs}'\r\n",
    "    def __repr__(self): return type(self).__name__\r\n",
    "\r\n",
    "    def __call__(self, event_name):\r\n",
    "        \"Call `self.{event_name}` if it's defined\"\r\n",
    "        res = getattr(self, event_name, noop)()\r\n",
    "        return res\r\n",
    "\r\n",
    "    def __setattr__(self, name, value):\r\n",
    "        super().__setattr__(name, value)\r\n",
    "\r\n",
    "    @property\r\n",
    "    def name(self):\r\n",
    "        \"Name of the `Callback`, camel-cased and with '*Callback*' removed\"\r\n",
    "        return class2attr(self, 'Callback')"
   ]
  },
  {
   "cell_type": "markdown",
   "metadata": {},
   "source": [
    "The `Callback` can be used to define callbacks to intorduce new tweaks into the test runner. Currently there are two life cycle events of the test runner.\r\n",
    "\r\n",
    "* `after_enter` - called after entering into Describe or It.\r\n",
    "* `before_exit` - called before exiting the Describe or It.\r\n",
    "\r\n",
    "> The `Callback` class is hugely inspired by the beautiful FastAI library. Infact the code for the callback is the direct copy of the Callback class in the FastAI class. Some of the tests are also from the FastAI library."
   ]
  },
  {
   "cell_type": "markdown",
   "metadata": {},
   "source": [
    "A callback can be created by subclassing the `Callback` class like this👇"
   ]
  },
  {
   "cell_type": "code",
   "execution_count": 7,
   "metadata": {},
   "outputs": [],
   "source": [
    "class _T(Callback):\r\n",
    "    def call_me(self): return \"maybe\"\r\n",
    "test_eq(_T()(\"call_me\"), \"maybe\")"
   ]
  },
  {
   "cell_type": "markdown",
   "metadata": {},
   "source": [
    "You can also create a function and then assign it to an event in the Callback class. Doing this would give you a callback for that event. \r\n",
    "\r\n",
    "👀 at the test below for an example about how to assign a function as a callback event."
   ]
  },
  {
   "cell_type": "code",
   "execution_count": 8,
   "metadata": {},
   "outputs": [],
   "source": [
    "def cb(self): return \"maybe\"\r\n",
    "_t = Callback(after_enter=cb)\r\n",
    "test_eq(_t(event.after_enter), \"maybe\")"
   ]
  },
  {
   "cell_type": "code",
   "execution_count": null,
   "metadata": {},
   "outputs": [],
   "source": [
    "class CallbackHandler():\r\n",
    "    \"Basic handler to assign the callback events to their respective flows\"\r\n",
    "    def __init__(self,cbs=None): self.cbs = cbs if cbs else []\r\n",
    "\r\n",
    "    def after_enter(self):\r\n",
    "        res = False\r\n",
    "        for cb in self.cbs: res = res and cb.after_enter()\r\n",
    "        return res\r\n",
    "\r\n",
    "    def before_exit(self):\r\n",
    "        res = False\r\n",
    "        for cb in self.cbs: res = res and cb.before_exit()\r\n",
    "        return res"
   ]
  },
  {
   "cell_type": "code",
   "execution_count": 9,
   "metadata": {},
   "outputs": [],
   "source": [
    "def sum():\r\n",
    "    return 1+1"
   ]
  },
  {
   "cell_type": "code",
   "execution_count": 10,
   "metadata": {},
   "outputs": [],
   "source": [
    "#export\r\n",
    "class Describe(ContextDecorator):\r\n",
    "    \"contextmanager to describe a test suite\"\r\n",
    "    def __init__(self, desc): store_attr('desc', self)\r\n",
    "\r\n",
    "    def __enter__(self):\r\n",
    "        \"start the execution of the suite and do setup\"\r\n",
    "        print(self.desc)\r\n",
    "        return self\r\n",
    "    #TODO: create callbacks to check type, value,traceback and format report and termnial display\r\n",
    "    def __exit__(self, type, value, traceback):\r\n",
    "        \"cleanup and exit the suite\"\r\n",
    "        print(f'{self.desc} completed')\r\n",
    "        #print(type, value, traceback, sep=\"\\n\")\r\n",
    "        return True"
   ]
  },
  {
   "cell_type": "code",
   "execution_count": 11,
   "metadata": {},
   "outputs": [
    {
     "data": {
      "text/markdown": "<h4 id=\"Describe.__enter__\" class=\"doc_header\"><code>Describe.__enter__</code><a href=\"__main__.py#L6\" class=\"source_link\" style=\"float:right\">[source]</a></h4>\n\n> <code>Describe.__enter__</code>()\n\nstart the execution of the suite and do setup",
      "text/plain": "<IPython.core.display.Markdown object>"
     },
     "metadata": {},
     "output_type": "display_data"
    }
   ],
   "source": [
    "show_doc(Describe.__enter__)"
   ]
  },
  {
   "cell_type": "code",
   "execution_count": 12,
   "metadata": {},
   "outputs": [
    {
     "data": {
      "text/markdown": "<h4 id=\"Describe.__exit__\" class=\"doc_header\"><code>Describe.__exit__</code><a href=\"__main__.py#L11\" class=\"source_link\" style=\"float:right\">[source]</a></h4>\n\n> <code>Describe.__exit__</code>(**`type`**, **`value`**, **`traceback`**)\n\ncleanup and exit the suite",
      "text/plain": "<IPython.core.display.Markdown object>"
     },
     "metadata": {},
     "output_type": "display_data"
    }
   ],
   "source": [
    "show_doc(Describe.__exit__)"
   ]
  },
  {
   "cell_type": "code",
   "execution_count": 13,
   "metadata": {},
   "outputs": [
    {
     "name": "stdout",
     "output_type": "stream",
     "text": [
      "fake failing test\n",
      "fake failing test completed\n"
     ]
    }
   ],
   "source": [
    "@Describe(\"fake failing test\")\r\n",
    "def test():\r\n",
    "    return test_eq(sum(),1)\r\n",
    "    \r\n",
    "test()"
   ]
  },
  {
   "cell_type": "markdown",
   "metadata": {},
   "source": [
    "This won't work👇"
   ]
  },
  {
   "cell_type": "code",
   "execution_count": 14,
   "metadata": {},
   "outputs": [
    {
     "name": "stdout",
     "output_type": "stream",
     "text": [
      "fake negative test\n",
      "fake negative test completed\n"
     ]
    }
   ],
   "source": [
    "with Describe(\"fake negative test\") as d:\r\n",
    "    d.test_ne(sum(), 1)"
   ]
  },
  {
   "cell_type": "markdown",
   "metadata": {},
   "source": [
    "This works👇"
   ]
  },
  {
   "cell_type": "code",
   "execution_count": 15,
   "metadata": {},
   "outputs": [
    {
     "name": "stdout",
     "output_type": "stream",
     "text": [
      "positive fake test suite\n",
      "positive fake test suite completed\n"
     ]
    }
   ],
   "source": [
    "with Describe(\"positive fake test suite\"):\r\n",
    "    test_eq(sum(),2)"
   ]
  },
  {
   "cell_type": "code",
   "execution_count": 16,
   "metadata": {},
   "outputs": [
    {
     "name": "stdout",
     "output_type": "stream",
     "text": [
      "first describe\n",
      "I am inside first describe\n",
      "second describe\n",
      "second describe completed\n",
      "first describe completed\n"
     ]
    }
   ],
   "source": [
    "with Describe(\"first describe\"):\r\n",
    "    print('I am inside first describe')\r\n",
    "    with Describe(\"second describe\") as d:\r\n",
    "        test_eq(sum(),2)"
   ]
  },
  {
   "cell_type": "code",
   "execution_count": 17,
   "metadata": {},
   "outputs": [
    {
     "name": "stdout",
     "output_type": "stream",
     "text": [
      "fake positive test\n",
      "fake positive test completed\n"
     ]
    }
   ],
   "source": [
    "@Describe(\"fake positive test\")\r\n",
    "def postest():\r\n",
    "    test_eq(sum(), 2)\r\n",
    "\r\n",
    "postest()"
   ]
  },
  {
   "cell_type": "code",
   "execution_count": 18,
   "metadata": {},
   "outputs": [
    {
     "name": "stdout",
     "output_type": "stream",
     "text": [
      "first describe\n",
      "second describe\n",
      "second describe completed\n",
      "first describe completed\n"
     ]
    }
   ],
   "source": [
    "@Describe(\"first describe\")\r\n",
    "@Describe(\"second describe\")\r\n",
    "def postest():\r\n",
    "    test_eq(sum(), 2)\r\n",
    "\r\n",
    "postest()"
   ]
  },
  {
   "cell_type": "code",
   "execution_count": 19,
   "metadata": {},
   "outputs": [],
   "source": [
    "#export\r\n",
    "class It(ContextDecorator):\r\n",
    "    \"contextmanager to describe a test function\"\r\n",
    "    def __init__(self, desc): store_attr('desc', self)\r\n",
    "\r\n",
    "    def __enter__(self):\r\n",
    "        \"start the execution of the test\"\r\n",
    "        print(self.desc)\r\n",
    "        return self\r\n",
    "    #TODO: create callbacks to check type, value,traceback and format report and termnial display\r\n",
    "    def __exit__(self, type, value, traceback):\r\n",
    "        \"cleanup and exit the test\"\r\n",
    "        print(f'{self.desc} completed')\r\n",
    "        #print(type, value, traceback, sep=\"\\n\")\r\n",
    "        return True"
   ]
  },
  {
   "cell_type": "code",
   "execution_count": 20,
   "metadata": {},
   "outputs": [
    {
     "name": "stdout",
     "output_type": "stream",
     "text": [
      "fake test suite\n",
      "should have some fake result\n",
      "should have some fake result completed\n",
      "fake test suite completed\n"
     ]
    }
   ],
   "source": [
    "with Describe(\"fake test suite\"):\r\n",
    "    with It(\"should have some fake result\"):\r\n",
    "        test_eq(sum(),2)"
   ]
  },
  {
   "cell_type": "code",
   "execution_count": 21,
   "metadata": {},
   "outputs": [
    {
     "name": "stdout",
     "output_type": "stream",
     "text": [
      "Fake posItive test suite\n",
      "should have positive test result\n",
      "should have positive test result completed\n",
      "Fake posItive test suite completed\n"
     ]
    }
   ],
   "source": [
    "with Describe(\"Fake posItive test suite\"):\r\n",
    "    with It(\"should have positive test result\"):\r\n",
    "        test_eq(sum(), 2)"
   ]
  },
  {
   "cell_type": "code",
   "execution_count": 22,
   "metadata": {},
   "outputs": [
    {
     "name": "stdout",
     "output_type": "stream",
     "text": [
      "Fake posItive test suite\n",
      "should have posItive test result\n",
      "should have posItive test result completed\n",
      "should have negative test result\n",
      "should have negative test result completed\n",
      "Fake posItive test suite completed\n"
     ]
    }
   ],
   "source": [
    "with Describe(\"Fake posItive test suite\"):\r\n",
    "    with It(\"should have posItive test result\"):\r\n",
    "        test_eq(sum(), 2)\r\n",
    "\r\n",
    "    with It(\"should have negative test result\"):\r\n",
    "        test_ne(sum(),1)"
   ]
  },
  {
   "cell_type": "code",
   "execution_count": 23,
   "metadata": {},
   "outputs": [
    {
     "name": "stdout",
     "output_type": "stream",
     "text": [
      "Fake positive test suite\n",
      "should have positive test result\n",
      "should have positive test result completed\n",
      "Fake positive test suite completed\n"
     ]
    }
   ],
   "source": [
    "@Describe(\"Fake positive test suite\")\r\n",
    "@It(\"should have positive test result\")\r\n",
    "def postest():\r\n",
    "    return test_eq(sum(), 2)\r\n",
    "\r\n",
    "postest()"
   ]
  },
  {
   "cell_type": "code",
   "execution_count": 24,
   "metadata": {},
   "outputs": [
    {
     "name": "stdout",
     "output_type": "stream",
     "text": [
      "Fake negative test suite\n",
      "should have negative test result\n",
      "should have negative test result completed\n",
      "Fake negative test suite completed\n"
     ]
    }
   ],
   "source": [
    "@Describe(\"Fake negative test suite\")\r\n",
    "@It(\"should have negative test result\")\r\n",
    "def negtest():\r\n",
    "    return test_ne(sum(), 1)\r\n",
    "\r\n",
    "negtest()"
   ]
  },
  {
   "cell_type": "code",
   "execution_count": 25,
   "metadata": {},
   "outputs": [
    {
     "name": "stdout",
     "output_type": "stream",
     "text": [
      "Converted 00_frappe.suite.ipynb.\n"
     ]
    }
   ],
   "source": [
    "notebook2script()"
   ]
  },
  {
   "cell_type": "code",
   "execution_count": null,
   "metadata": {},
   "outputs": [],
   "source": []
  }
 ],
 "metadata": {
  "interpreter": {
   "hash": "ecf5722fdaf1897a315d257d89d94520bfcaa453217d5becf09b39e73618b0de"
  },
  "kernelspec": {
   "display_name": "Python 3.7.6 64-bit ('base': conda)",
   "name": "python376jvsc74a57bd0e079cb073afbc67e75dc147949a8fc9be8bcd84e66144dca9912de085621a9e8"
  },
  "language_info": {
   "codemirror_mode": {
    "name": "ipython",
    "version": 3
   },
   "file_extension": ".py",
   "mimetype": "text/x-python",
   "name": "python",
   "nbconvert_exporter": "python",
   "pygments_lexer": "ipython3",
   "version": "3.7.6"
  }
 },
 "nbformat": 4,
 "nbformat_minor": 2
}