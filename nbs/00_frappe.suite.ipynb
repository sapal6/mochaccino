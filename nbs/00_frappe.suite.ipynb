{
 "cells": [
  {
   "cell_type": "code",
   "execution_count": 1,
   "metadata": {},
   "outputs": [],
   "source": [
    "# default_exp frappe.suite"
   ]
  },
  {
   "cell_type": "markdown",
   "metadata": {},
   "source": [
    "# Frappe suite\r\n",
    "\r\n",
    "> Frappe is the package which has definItions for the test suite `deescribe` and tets function `It`. "
   ]
  },
  {
   "cell_type": "code",
   "execution_count": 2,
   "metadata": {},
   "outputs": [],
   "source": [
    "#hide\r\n",
    "from nbdev.showdoc import *\r\n",
    "from nbdev.export import notebook2script\r\n",
    "from fastcore.basics import *\r\n",
    "from fastcore.test import *"
   ]
  },
  {
   "cell_type": "code",
   "execution_count": 21,
   "metadata": {},
   "outputs": [],
   "source": [
    "#export\r\n",
    "from contextlib import ContextDecorator"
   ]
  },
  {
   "cell_type": "code",
   "execution_count": 4,
   "metadata": {},
   "outputs": [],
   "source": [
    "def sum():\r\n",
    "    return 1+1"
   ]
  },
  {
   "cell_type": "code",
   "execution_count": 5,
   "metadata": {},
   "outputs": [],
   "source": [
    "#export\r\n",
    "class Describe(ContextDecorator):\r\n",
    "    \"contextmanager to describe a test suite\"\r\n",
    "    def __init__(self, desc): store_attr('desc', self)\r\n",
    "\r\n",
    "    def __enter__(self):\r\n",
    "        \"start the execution of the suite and do setup\"\r\n",
    "        print(self.desc)\r\n",
    "        return self\r\n",
    "    \r\n",
    "    def __exit__(self, type, value, traceback):\r\n",
    "        \"cleanup and exIt the suite\"\r\n",
    "        print(f'{self.desc} completed')\r\n",
    "        print(type, value, traceback, sep=\"\\n\")\r\n",
    "        return True"
   ]
  },
  {
   "cell_type": "code",
   "execution_count": 6,
   "metadata": {},
   "outputs": [
    {
     "data": {
      "text/markdown": "<h4 id=\"Describe.__enter__\" class=\"doc_header\"><code>Describe.__enter__</code><a href=\"__main__.py#L6\" class=\"source_link\" style=\"float:right\">[source]</a></h4>\n\n> <code>Describe.__enter__</code>()\n\nstart the execution of the suite and do setup",
      "text/plain": "<IPython.core.display.Markdown object>"
     },
     "metadata": {},
     "output_type": "display_data"
    }
   ],
   "source": [
    "show_doc(Describe.__enter__)"
   ]
  },
  {
   "cell_type": "code",
   "execution_count": 7,
   "metadata": {},
   "outputs": [
    {
     "data": {
      "text/markdown": "<h4 id=\"Describe.__exit__\" class=\"doc_header\"><code>Describe.__exit__</code><a href=\"__main__.py#L11\" class=\"source_link\" style=\"float:right\">[source]</a></h4>\n\n> <code>Describe.__exit__</code>(**`type`**, **`value`**, **`traceback`**)\n\ncleanup and exIt the suite",
      "text/plain": "<IPython.core.display.Markdown object>"
     },
     "metadata": {},
     "output_type": "display_data"
    }
   ],
   "source": [
    "show_doc(Describe.__exit__)"
   ]
  },
  {
   "cell_type": "code",
   "execution_count": 8,
   "metadata": {},
   "outputs": [
    {
     "name": "stdout",
     "output_type": "stream",
     "text": [
      "fake failing test\n",
      "fake failing test completed\n",
      "<class 'AssertionError'>\n",
      "==:\n",
      "2\n",
      "1\n",
      "<traceback object at 0x00000282EDAC7C08>\n"
     ]
    }
   ],
   "source": [
    "@Describe(\"fake failing test\")\r\n",
    "def test():\r\n",
    "    return test_eq(sum(),1)\r\n",
    "    \r\n",
    "test()"
   ]
  },
  {
   "cell_type": "markdown",
   "metadata": {},
   "source": [
    "This won't work👇"
   ]
  },
  {
   "cell_type": "code",
   "execution_count": 9,
   "metadata": {},
   "outputs": [
    {
     "name": "stdout",
     "output_type": "stream",
     "text": [
      "fake negative test\n",
      "fake negative test completed\n",
      "<class 'AttributeError'>\n",
      "'Describe' object has no attribute 'test_ne'\n",
      "<traceback object at 0x00000282EDAC9188>\n"
     ]
    }
   ],
   "source": [
    "with Describe(\"fake negative test\") as d:\r\n",
    "    d.test_ne(sum(), 1)"
   ]
  },
  {
   "cell_type": "markdown",
   "metadata": {},
   "source": [
    "This works👇"
   ]
  },
  {
   "cell_type": "code",
   "execution_count": 10,
   "metadata": {},
   "outputs": [
    {
     "name": "stdout",
     "output_type": "stream",
     "text": [
      "positive fake test suite\n",
      "positive fake test suite completed\n",
      "None\n",
      "None\n",
      "None\n"
     ]
    }
   ],
   "source": [
    "with Describe(\"positive fake test suite\"):\r\n",
    "    test_eq(sum(),2)"
   ]
  },
  {
   "cell_type": "code",
   "execution_count": 11,
   "metadata": {},
   "outputs": [
    {
     "name": "stdout",
     "output_type": "stream",
     "text": [
      "first describe\n",
      "I am inside first describe\n",
      "second describe\n",
      "second describe completed\n",
      "None\n",
      "None\n",
      "None\n",
      "first describe completed\n",
      "None\n",
      "None\n",
      "None\n"
     ]
    }
   ],
   "source": [
    "with Describe(\"first describe\"):\r\n",
    "    print('I am inside first describe')\r\n",
    "    with Describe(\"second describe\") as d:\r\n",
    "        test_eq(sum(),2)"
   ]
  },
  {
   "cell_type": "code",
   "execution_count": 12,
   "metadata": {},
   "outputs": [
    {
     "name": "stdout",
     "output_type": "stream",
     "text": [
      "fake positive test\n",
      "fake positive test completed\n",
      "None\n",
      "None\n",
      "None\n"
     ]
    }
   ],
   "source": [
    "@Describe(\"fake positive test\")\r\n",
    "def postest():\r\n",
    "    test_eq(sum(), 2)\r\n",
    "\r\n",
    "postest()"
   ]
  },
  {
   "cell_type": "code",
   "execution_count": 13,
   "metadata": {},
   "outputs": [
    {
     "name": "stdout",
     "output_type": "stream",
     "text": [
      "first describe\n",
      "second describe\n",
      "second describe completed\n",
      "None\n",
      "None\n",
      "None\n",
      "first describe completed\n",
      "None\n",
      "None\n",
      "None\n"
     ]
    }
   ],
   "source": [
    "@Describe(\"first describe\")\r\n",
    "@Describe(\"second describe\")\r\n",
    "def postest():\r\n",
    "    test_eq(sum(), 2)\r\n",
    "\r\n",
    "postest()"
   ]
  },
  {
   "cell_type": "code",
   "execution_count": 14,
   "metadata": {},
   "outputs": [],
   "source": [
    "#export\r\n",
    "class It(ContextDecorator):\r\n",
    "    \"contextmanager to describe a test function\"\r\n",
    "    def __init__(self, desc): store_attr('desc', self)\r\n",
    "\r\n",
    "    def __enter__(self):\r\n",
    "        \"start the execution of the test\"\r\n",
    "        print(self.desc)\r\n",
    "        return self\r\n",
    "    \r\n",
    "    def __exit__(self, type, value, traceback):\r\n",
    "        \"cleanup and exit the test\"\r\n",
    "        print(f'{self.desc} completed')\r\n",
    "        print(type, value, traceback, sep=\"\\n\")\r\n",
    "        return True"
   ]
  },
  {
   "cell_type": "code",
   "execution_count": 15,
   "metadata": {},
   "outputs": [
    {
     "name": "stdout",
     "output_type": "stream",
     "text": [
      "fake test suite\n",
      "should have some fake result\n",
      "should have some fake result completed\n",
      "None\n",
      "None\n",
      "None\n",
      "fake test suite completed\n",
      "None\n",
      "None\n",
      "None\n"
     ]
    }
   ],
   "source": [
    "with Describe(\"fake test suite\"):\r\n",
    "    with It(\"should have some fake result\"):\r\n",
    "        test_eq(sum(),2)"
   ]
  },
  {
   "cell_type": "code",
   "execution_count": 16,
   "metadata": {},
   "outputs": [
    {
     "name": "stdout",
     "output_type": "stream",
     "text": [
      "Fake posItive test suite\n",
      "should have positive test result\n",
      "should have positive test result completed\n",
      "None\n",
      "None\n",
      "None\n",
      "Fake posItive test suite completed\n",
      "None\n",
      "None\n",
      "None\n"
     ]
    }
   ],
   "source": [
    "with Describe(\"Fake posItive test suite\"):\r\n",
    "    with It(\"should have positive test result\"):\r\n",
    "        test_eq(sum(), 2)"
   ]
  },
  {
   "cell_type": "code",
   "execution_count": 17,
   "metadata": {},
   "outputs": [
    {
     "name": "stdout",
     "output_type": "stream",
     "text": [
      "Fake posItive test suite\n",
      "should have posItive test result\n",
      "should have posItive test result completed\n",
      "None\n",
      "None\n",
      "None\n",
      "should have negative test result\n",
      "should have negative test result completed\n",
      "None\n",
      "None\n",
      "None\n",
      "Fake posItive test suite completed\n",
      "None\n",
      "None\n",
      "None\n"
     ]
    }
   ],
   "source": [
    "with Describe(\"Fake posItive test suite\"):\r\n",
    "    with It(\"should have posItive test result\"):\r\n",
    "        test_eq(sum(), 2)\r\n",
    "\r\n",
    "    with It(\"should have negative test result\"):\r\n",
    "        test_ne(sum(),1)"
   ]
  },
  {
   "cell_type": "code",
   "execution_count": 18,
   "metadata": {},
   "outputs": [
    {
     "name": "stdout",
     "output_type": "stream",
     "text": [
      "Fake positive test suite\n",
      "should have positive test result\n",
      "should have positive test result completed\n",
      "None\n",
      "None\n",
      "None\n",
      "Fake positive test suite completed\n",
      "None\n",
      "None\n",
      "None\n"
     ]
    }
   ],
   "source": [
    "@Describe(\"Fake positive test suite\")\r\n",
    "@It(\"should have positive test result\")\r\n",
    "def postest():\r\n",
    "    return test_eq(sum(), 2)\r\n",
    "\r\n",
    "postest()"
   ]
  },
  {
   "cell_type": "code",
   "execution_count": 19,
   "metadata": {},
   "outputs": [
    {
     "name": "stdout",
     "output_type": "stream",
     "text": [
      "Fake negative test suite\n",
      "should have negative test result\n",
      "should have negative test result completed\n",
      "None\n",
      "None\n",
      "None\n",
      "Fake negative test suite completed\n",
      "None\n",
      "None\n",
      "None\n"
     ]
    }
   ],
   "source": [
    "@Describe(\"Fake negative test suite\")\r\n",
    "@It(\"should have negative test result\")\r\n",
    "def negtest():\r\n",
    "    return test_ne(sum(), 1)\r\n",
    "\r\n",
    "negtest()"
   ]
  },
  {
   "cell_type": "code",
   "execution_count": 20,
   "metadata": {},
   "outputs": [
    {
     "name": "stdout",
     "output_type": "stream",
     "text": [
      "Converted 00_frappe.suite.ipynb.\n"
     ]
    }
   ],
   "source": [
    "notebook2script()"
   ]
  },
  {
   "cell_type": "code",
   "execution_count": null,
   "metadata": {},
   "outputs": [],
   "source": []
  }
 ],
 "metadata": {
  "interpreter": {
   "hash": "ecf5722fdaf1897a315d257d89d94520bfcaa453217d5becf09b39e73618b0de"
  },
  "kernelspec": {
   "display_name": "Python 3.7.6 64-bit ('base': conda)",
   "name": "python376jvsc74a57bd0e079cb073afbc67e75dc147949a8fc9be8bcd84e66144dca9912de085621a9e8"
  },
  "language_info": {
   "codemirror_mode": {
    "name": "ipython",
    "version": 3
   },
   "file_extension": ".py",
   "mimetype": "text/x-python",
   "name": "python",
   "nbconvert_exporter": "python",
   "pygments_lexer": "ipython3",
   "version": "3.7.6"
  }
 },
 "nbformat": 4,
 "nbformat_minor": 2
}