{
 "cells": [
  {
   "cell_type": "code",
   "execution_count": 5,
   "metadata": {},
   "outputs": [],
   "source": [
    "# default_exp frappe.suite"
   ]
  },
  {
   "cell_type": "markdown",
   "metadata": {},
   "source": [
    "# Frappe Suite\n",
    "\n",
    "> Frappe is the package which has definitions for the test suite `deescribe` and tets function `it`. "
   ]
  },
  {
   "cell_type": "code",
   "execution_count": 6,
   "metadata": {},
   "outputs": [],
   "source": [
    "#hide\n",
    "from nbdev.showdoc import *\n",
    "from nbdev.export import notebook2script\n",
    "from fastcore.test import *"
   ]
  },
  {
   "cell_type": "code",
   "execution_count": 7,
   "metadata": {},
   "outputs": [],
   "source": [
    "#export\n",
    "from contextlib import ContextDecorator\n",
    "from dataclasses import dataclass"
   ]
  },
  {
   "cell_type": "code",
   "execution_count": 8,
   "metadata": {},
   "outputs": [],
   "source": [
    "def sum():\n",
    "    return 1+1"
   ]
  },
  {
   "cell_type": "code",
   "execution_count": 9,
   "metadata": {},
   "outputs": [],
   "source": [
    "#export\n",
    "@dataclass\n",
    "class describe(ContextDecorator):\n",
    "    \"contextmanager to describe a test suite\"\n",
    "    desc:str\n",
    "\n",
    "    def __enter__(self):\n",
    "        \"start the execution of the suite and do setup\"\n",
    "        print(self.desc)\n",
    "        return self\n",
    "    \n",
    "    def __exit__(self, type, value, traceback):\n",
    "        \"cleanup and exit the suite\"\n",
    "        print(f'{self.desc} completed')\n",
    "        print(type, value, traceback, sep=\"\\n\")\n",
    "        return True"
   ]
  },
  {
   "cell_type": "code",
   "execution_count": 10,
   "metadata": {},
   "outputs": [
    {
     "output_type": "display_data",
     "data": {
      "text/plain": "<IPython.core.display.Markdown object>",
      "text/markdown": "<h4 id=\"describe.__enter__\" class=\"doc_header\"><code>describe.__enter__</code><a href=\"__main__.py#L7\" class=\"source_link\" style=\"float:right\">[source]</a></h4>\n\n> <code>describe.__enter__</code>()\n\nstart the execution of the suite and do setup"
     },
     "metadata": {}
    }
   ],
   "source": [
    "show_doc(describe.__enter__)"
   ]
  },
  {
   "cell_type": "code",
   "execution_count": 11,
   "metadata": {},
   "outputs": [
    {
     "output_type": "display_data",
     "data": {
      "text/plain": "<IPython.core.display.Markdown object>",
      "text/markdown": "<h4 id=\"describe.__exit__\" class=\"doc_header\"><code>describe.__exit__</code><a href=\"__main__.py#L12\" class=\"source_link\" style=\"float:right\">[source]</a></h4>\n\n> <code>describe.__exit__</code>(**`type`**, **`value`**, **`traceback`**)\n\ncleanup and exit the suite"
     },
     "metadata": {}
    }
   ],
   "source": [
    "show_doc(describe.__exit__)"
   ]
  },
  {
   "cell_type": "code",
   "execution_count": 12,
   "metadata": {},
   "outputs": [
    {
     "output_type": "stream",
     "name": "stdout",
     "text": [
      "fake negative test\nfake negative test completed\n<class 'AssertionError'>\n==:\n2\n1\n<traceback object at 0x00000280D1937940>\n"
     ]
    }
   ],
   "source": [
    "@describe(\"fake negative test\")\n",
    "def test():\n",
    "    return test_eq(sum(),1)\n",
    "    \n",
    "test()"
   ]
  },
  {
   "cell_type": "code",
   "execution_count": 13,
   "metadata": {},
   "outputs": [
    {
     "output_type": "stream",
     "name": "stdout",
     "text": [
      "fake negative test\nfake negative test completed\n<class 'AttributeError'>\n'describe' object has no attribute 'test_eq'\n<traceback object at 0x00000280D19379C0>\n"
     ]
    }
   ],
   "source": [
    "with describe(\"fake negative test\") as d:\n",
    "    d.test_eq(sum(), 2)"
   ]
  },
  {
   "cell_type": "code",
   "execution_count": 14,
   "metadata": {},
   "outputs": [
    {
     "output_type": "stream",
     "name": "stdout",
     "text": [
      "positive fake test suite\nfake negative test\nfake negative test completed\n<class 'AssertionError'>\n==:\n2\n1\n<traceback object at 0x00000280D193AD40>\npositive fake test suite completed\n<class 'AssertionError'>\n==:\nNone\n2\n<traceback object at 0x00000280D193AC80>\n"
     ]
    }
   ],
   "source": [
    "with describe(\"positive fake test suite\"):\n",
    "    test_eq(test(),2)"
   ]
  },
  {
   "cell_type": "code",
   "execution_count": 15,
   "metadata": {},
   "outputs": [
    {
     "output_type": "stream",
     "name": "stdout",
     "text": [
      "first describe\nI am inside first describe\nsecond describe\nsecond describe completed\n<class 'AttributeError'>\n'describe' object has no attribute 'test_eq'\n<traceback object at 0x00000280D193D340>\nfirst describe completed\nNone\nNone\nNone\n"
     ]
    }
   ],
   "source": [
    "with describe(\"first describe\"):\n",
    "    print('I am inside first describe')\n",
    "    with describe(\"second describe\") as d:\n",
    "        d.test_eq(test(),2)"
   ]
  },
  {
   "cell_type": "code",
   "execution_count": 16,
   "metadata": {},
   "outputs": [
    {
     "output_type": "stream",
     "name": "stdout",
     "text": [
      "fake positive test\n",
      "fake positive test completed\n",
      "None\n",
      "None\n",
      "None\n"
     ]
    }
   ],
   "source": [
    "@describe(\"fake positive test\")\n",
    "def postest():\n",
    "    return test_eq(sum(), 2)\n",
    "\n",
    "postest()"
   ]
  },
  {
   "cell_type": "code",
   "execution_count": 17,
   "metadata": {},
   "outputs": [
    {
     "output_type": "stream",
     "name": "stdout",
     "text": [
      "first describe\nsecond describe\nsecond describe completed\n<class 'AssertionError'>\n==:\n2\n1\n<traceback object at 0x00000280D193F2C0>\nfirst describe completed\nNone\nNone\nNone\n"
     ]
    }
   ],
   "source": [
    "@describe(\"first describe\")\n",
    "@describe(\"second describe\")\n",
    "def postest():\n",
    "    return test_eq(sum(), 1)\n",
    "\n",
    "postest()"
   ]
  },
  {
   "cell_type": "code",
   "execution_count": 18,
   "metadata": {},
   "outputs": [],
   "source": [
    "#export\n",
    "@dataclass\n",
    "class it(ContextDecorator):\n",
    "    \"contextmanager to describe a test function\"\n",
    "    desc:str\n",
    "\n",
    "    def __enter__(self):\n",
    "        \"start the execution of the test\"\n",
    "        print(self.desc)\n",
    "        return self\n",
    "    \n",
    "    def __exit__(self, type, value, traceback):\n",
    "        \"cleanup and exit the test\"\n",
    "        print(f'{self.desc} completed')\n",
    "        print(type, value, traceback, sep=\"\\n\")\n",
    "        return True"
   ]
  },
  {
   "cell_type": "code",
   "execution_count": 19,
   "metadata": {},
   "outputs": [
    {
     "output_type": "stream",
     "name": "stdout",
     "text": [
      "fake test suite\nshould have some fake result\nfake negative test\nfake negative test completed\n<class 'AssertionError'>\n==:\n2\n1\n<traceback object at 0x00000280D1947140>\nshould have some fake result completed\n<class 'AssertionError'>\n==:\nNone\n2\n<traceback object at 0x00000280D1947140>\nfake test suite completed\nNone\nNone\nNone\n"
     ]
    }
   ],
   "source": [
    "with describe(\"fake test suite\"):\n",
    "    with it(\"should have some fake result\"):\n",
    "        test_eq(test(),2)"
   ]
  },
  {
   "cell_type": "code",
   "execution_count": 22,
   "metadata": {},
   "outputs": [
    {
     "output_type": "stream",
     "name": "stdout",
     "text": [
      "Fake positive test suite\nshoud have positive test result\nshoud have positive test result completed\nNone\nNone\nNone\nFake positive test suite completed\nNone\nNone\nNone\n"
     ]
    }
   ],
   "source": [
    "with describe(\"Fake positive test suite\"):\n",
    "    with it(\"should have positive test result\"):\n",
    "        test_eq(sum(), 2)"
   ]
  },
  {
   "cell_type": "code",
   "execution_count": 27,
   "metadata": {},
   "outputs": [
    {
     "output_type": "stream",
     "name": "stdout",
     "text": [
      "Fake positive test suite\nshould have positive test result\nshould have positive test result completed\nNone\nNone\nNone\nFake positive test suite completed\nNone\nNone\nNone\n"
     ]
    }
   ],
   "source": [
    "@describe(\"Fake positive test suite\")\n",
    "@it(\"should have positive test result\")\n",
    "def postest():\n",
    "    return test_eq(sum(), 2)\n",
    "\n",
    "postest()"
   ]
  },
  {
   "cell_type": "code",
   "execution_count": 28,
   "metadata": {},
   "outputs": [
    {
     "output_type": "stream",
     "name": "stdout",
     "text": [
      "Fake positive test suite\nshould have positive test result\nshould have positive test result completed\n<class 'AssertionError'>\n==:\n2\n1\n<traceback object at 0x00000280D1954600>\nFake positive test suite completed\nNone\nNone\nNone\n"
     ]
    }
   ],
   "source": [
    "@describe(\"Fake positive test suite\")\n",
    "@it(\"should have positive test result\")\n",
    "def negtest():\n",
    "    return test_eq(sum(), 1)\n",
    "\n",
    "negtest()"
   ]
  },
  {
   "cell_type": "code",
   "execution_count": 23,
   "metadata": {},
   "outputs": [
    {
     "output_type": "stream",
     "name": "stdout",
     "text": [
      "Converted 00_suite.ipynb.\nConverted index.ipynb.\n"
     ]
    }
   ],
   "source": [
    "notebook2script()"
   ]
  },
  {
   "cell_type": "code",
   "execution_count": null,
   "metadata": {},
   "outputs": [],
   "source": []
  }
 ],
 "metadata": {
  "kernelspec": {
   "name": "python3",
   "display_name": "Python 3.9.1 64-bit ('base': conda)"
  },
  "interpreter": {
   "hash": "ecf5722fdaf1897a315d257d89d94520bfcaa453217d5becf09b39e73618b0de"
  }
 },
 "nbformat": 4,
 "nbformat_minor": 2
}